{
 "cells": [
  {
   "cell_type": "code",
   "execution_count": 5,
   "id": "b4ff2b5b",
   "metadata": {},
   "outputs": [
    {
     "data": {
      "text/plain": [
       "{0: 0, 2: 1, 1: 2, 4: 3, 3: 4}"
      ]
     },
     "execution_count": 5,
     "metadata": {},
     "output_type": "execute_result"
    }
   ],
   "source": [
    "# Write a Python program to sort (ascending and descending) a dictionary by value.\n",
    "d = {1: 2, 3: 4, 4: 3, 2: 1, 0: 0}\n",
    "a = sorted(d.items(), key=lambda x:x[1])\n",
    "dict(a)"
   ]
  },
  {
   "cell_type": "code",
   "execution_count": 7,
   "id": "edcbddc8",
   "metadata": {},
   "outputs": [
    {
     "data": {
      "text/plain": [
       "{0: 10, 1: 20, 2: 30}"
      ]
     },
     "execution_count": 7,
     "metadata": {},
     "output_type": "execute_result"
    }
   ],
   "source": [
    "# Write a Python script to add a key to a dictionary.\n",
    "\n",
    "sample = {0: 10, 1: 20}\n",
    "# Expected_Result : {0: 10, 1: 20, 2: 30}\n",
    "sample[2]=30\n",
    "sample"
   ]
  },
  {
   "cell_type": "code",
   "execution_count": 23,
   "id": "45892241",
   "metadata": {},
   "outputs": [
    {
     "data": {
      "text/plain": [
       "{1: 10, 2: 20, 3: 30, 4: 40, 5: 50, 6: 60}"
      ]
     },
     "execution_count": 23,
     "metadata": {},
     "output_type": "execute_result"
    }
   ],
   "source": [
    "#  Write a Python script to concatenate the following dictionaries to create a new one.\n",
    "\n",
    "# Sample Dictionary :\n",
    "dic1={1:10, 2:20}\n",
    "dic2={3:30, 4:40}\n",
    "dic3={5:50,6:60}\n",
    "# Expected Result : {1: 10, 2: 20, 3: 30, 4: 40, 5: 50, 6: 60}\n",
    "dic4 = {}\n",
    "for d in (dic1,dic2,dic3):\n",
    "    dic4.update(d)\n",
    "dic4"
   ]
  },
  {
   "cell_type": "code",
   "execution_count": 27,
   "id": "f82bb9e9",
   "metadata": {},
   "outputs": [
    {
     "name": "stdout",
     "output_type": "stream",
     "text": [
      "Exists\n"
     ]
    }
   ],
   "source": [
    "# Write a Python script to check whether a given key already exists in a dictionary.\n",
    "d = {1: 2, 3: 4, 4: 3, 2: 1, 0: 0}\n",
    "key = 1\n",
    "if key in d.keys():\n",
    "    print('Exists')\n",
    "else:\n",
    "    print('Not exists')"
   ]
  },
  {
   "cell_type": "code",
   "execution_count": 29,
   "id": "e3676521",
   "metadata": {},
   "outputs": [
    {
     "name": "stdout",
     "output_type": "stream",
     "text": [
      "1 --> 2\n",
      "3 --> 4\n",
      "4 --> 3\n",
      "2 --> 1\n",
      "0 --> 0\n"
     ]
    }
   ],
   "source": [
    "# Write a Python program to iterate over dictionaries using for loops.\n",
    "for i,j in d.items():\n",
    "    print(i,'-->',j)"
   ]
  },
  {
   "cell_type": "code",
   "execution_count": 30,
   "id": "90cc1ba1",
   "metadata": {},
   "outputs": [
    {
     "data": {
      "text/plain": [
       "{1: 1, 2: 4, 3: 9, 4: 16, 5: 25, 6: 36, 7: 49, 8: 64, 9: 81, 10: 100}"
      ]
     },
     "execution_count": 30,
     "metadata": {},
     "output_type": "execute_result"
    }
   ],
   "source": [
    "# Write a Python script to generate and print a dictionary that contains a number (between 1 and n) in the form (x, x*x).\n",
    "n = 10\n",
    "dic = {}\n",
    "for i in range(1,n+1):\n",
    "    dic[i]=i*i\n",
    "dic"
   ]
  },
  {
   "cell_type": "code",
   "execution_count": 34,
   "id": "3b816af6",
   "metadata": {},
   "outputs": [
    {
     "data": {
      "text/plain": [
       "{1: 10, 2: 20, 3: 30, 4: 40}"
      ]
     },
     "execution_count": 34,
     "metadata": {},
     "output_type": "execute_result"
    }
   ],
   "source": [
    "# Write a Python script to merge two Python dictionaries.\n",
    "dic1={1:10, 2:20}\n",
    "dic2={3:30, 4:40}\n",
    "dic3 = {}\n",
    "for i in (dic1,dic2):\n",
    "    dic3.update(i)\n",
    "dic3    "
   ]
  },
  {
   "cell_type": "code",
   "execution_count": 35,
   "id": "1da77813",
   "metadata": {},
   "outputs": [
    {
     "name": "stdout",
     "output_type": "stream",
     "text": [
      "293\n"
     ]
    }
   ],
   "source": [
    "# Write a Python program to sum all the items in a dictionary.\n",
    "my_dict = {'data1':100,'data2':-54,'data3':247}\n",
    "print(sum(my_dict.values()))"
   ]
  },
  {
   "cell_type": "code",
   "execution_count": 36,
   "id": "7096a0ee",
   "metadata": {},
   "outputs": [
    {
     "data": {
      "text/plain": [
       "200"
      ]
     },
     "execution_count": 36,
     "metadata": {},
     "output_type": "execute_result"
    }
   ],
   "source": [
    "#  Write a Python program to multiply all the items in a dictionary.\n",
    "res = 1\n",
    "for i in dic1:\n",
    "    res = res*dic1[i]\n",
    "res"
   ]
  },
  {
   "cell_type": "code",
   "execution_count": 39,
   "id": "0253736a",
   "metadata": {},
   "outputs": [
    {
     "data": {
      "text/plain": [
       "{'a': 1, 'b': 2, 'd': 4}"
      ]
     },
     "execution_count": 39,
     "metadata": {},
     "output_type": "execute_result"
    }
   ],
   "source": [
    "# Write a Python program to remove a key from a dictionary.\n",
    "myDict = {'a':1,'b':2,'c':3,'d':4}\n",
    "k = 'c'\n",
    "if k in myDict:\n",
    "    del myDict[k]\n",
    "myDict"
   ]
  },
  {
   "cell_type": "code",
   "execution_count": 41,
   "id": "fd33c0ff",
   "metadata": {},
   "outputs": [
    {
     "data": {
      "text/plain": [
       "{'red': '#FF0000', 'green': '#008000', 'blue': '#0000FF'}"
      ]
     },
     "execution_count": 41,
     "metadata": {},
     "output_type": "execute_result"
    }
   ],
   "source": [
    "# Write a Python program to map two lists into a dictionary.\n",
    "keys = ['red', 'green', 'blue']\n",
    "values = ['#FF0000','#008000', '#0000FF']\n",
    "d = {}\n",
    "for i in range(len(keys)):\n",
    "    d[keys[i]] = values[i]\n",
    "\n",
    "# color_dictionary = dict(zip(keys, values))"
   ]
  },
  {
   "cell_type": "code",
   "execution_count": 51,
   "id": "36618946",
   "metadata": {},
   "outputs": [
    {
     "name": "stdout",
     "output_type": "stream",
     "text": [
      "1 -min-> 1\n",
      "10 -max-> 100\n"
     ]
    }
   ],
   "source": [
    "# 15.  Write a Python program to get the maximum and minimum values of a dictionary and give output key--> value\n",
    "ma = max(dic.values())\n",
    "mi = min(dic.values())\n",
    "\n",
    "for i,j in dic.items():\n",
    "    if j == ma:\n",
    "        print(i,'-max->',j)\n",
    "    elif j == mi:\n",
    "        print(i,'-min->',j)"
   ]
  },
  {
   "cell_type": "code",
   "execution_count": 70,
   "id": "527cf660",
   "metadata": {},
   "outputs": [
    {
     "data": {
      "text/plain": [
       "{'a': 1, 'b': 2, 'c': 3, 'e': 4}"
      ]
     },
     "execution_count": 70,
     "metadata": {},
     "output_type": "execute_result"
    }
   ],
   "source": [
    "# Write a Python program to remove duplicates from the dictionary.\n",
    "myDict = {'a':1,'b':2,'c':3,'e':4,'d':4}\n",
    "d = list(myDict.items())\n",
    "uq = {}\n",
    "for i,j in d:\n",
    "    if j not in uq.values():\n",
    "        uq[i]= j\n",
    "dict(uq)"
   ]
  },
  {
   "cell_type": "code",
   "execution_count": 66,
   "id": "2ee0c1d6",
   "metadata": {},
   "outputs": [
    {
     "data": {
      "text/plain": [
       "{'id1': {'name': ['Sara'],\n",
       "  'class': ['V'],\n",
       "  'subject_integration': ['english, math, science']},\n",
       " 'id2': {'name': ['David'],\n",
       "  'class': ['V'],\n",
       "  'subject_integration': ['english, math, science']},\n",
       " 'id4': {'name': ['Surya'],\n",
       "  'class': ['V'],\n",
       "  'subject_integration': ['english, math, science']}}"
      ]
     },
     "execution_count": 66,
     "metadata": {},
     "output_type": "execute_result"
    }
   ],
   "source": [
    "student_data = {'id1': \n",
    "   {'name': ['Sara'], \n",
    "    'class': ['V'], \n",
    "    'subject_integration': ['english, math, science']\n",
    "   },\n",
    " 'id2': \n",
    "  {'name': ['David'], \n",
    "    'class': ['V'], \n",
    "    'subject_integration': ['english, math, science']\n",
    "   },\n",
    " 'id3': \n",
    "    {'name': ['Sara'], \n",
    "    'class': ['V'], \n",
    "    'subject_integration': ['english, math, science']\n",
    "   },\n",
    " 'id4': \n",
    "   {'name': ['Surya'], \n",
    "    'class': ['V'], \n",
    "    'subject_integration': ['english, math, science']\n",
    "   },\n",
    "}\n",
    "result = {}\n",
    "for i,j in student_data.items():\n",
    "    if j not in result.values():\n",
    "        result[i] = j\n",
    "result"
   ]
  },
  {
   "cell_type": "code",
   "execution_count": 76,
   "id": "c57fd189",
   "metadata": {},
   "outputs": [
    {
     "name": "stdout",
     "output_type": "stream",
     "text": [
      "Dictonary is empty\n"
     ]
    }
   ],
   "source": [
    "# Write a Python program to check if a dictionary is empty or not.\n",
    "# myDict = {'a':1,'b':2,'d':4}\n",
    "d = {}\n",
    "a = len(list(d.items()))\n",
    "if a == 0:\n",
    "    print('Dictonary is empty')\n",
    "else:\n",
    "    print('Dictonary is not empty')"
   ]
  },
  {
   "cell_type": "code",
   "execution_count": 87,
   "id": "77ae2e5b",
   "metadata": {},
   "outputs": [
    {
     "data": {
      "text/plain": [
       "{'a': 400, 'b': 400, 'c': 600, 'd': 400}"
      ]
     },
     "execution_count": 87,
     "metadata": {},
     "output_type": "execute_result"
    }
   ],
   "source": [
    "# Write a Python program to combine two dictionary by adding values for common keys.\n",
    "d1 = {'a': 100, 'b': 200, 'c':300}\n",
    "d2 = {'a': 300, 'b': 200, 'c':300,'d':400}\n",
    "# Sample output: Counter({'a': 400, 'b': 400, 'd': 400, 'c': 300})\n",
    "\n",
    "d3 = {}\n",
    "uq_keys = [i for i in d1.keys()]\n",
    "for i in d2.keys():\n",
    "    if i not in uq_keys:\n",
    "        uq_keys.append(i)\n",
    "uq_keys\n",
    "for i in uq_keys:\n",
    "    if i in d1 and i in d2:\n",
    "        d3[i] = d1[i]+d2[i]\n",
    "    elif i in d1:\n",
    "        d3[i] = d1[i]\n",
    "    elif i in d2:\n",
    "        d3[i] = d2[i]\n",
    "d3"
   ]
  },
  {
   "cell_type": "code",
   "execution_count": 107,
   "id": "4925ec1d",
   "metadata": {},
   "outputs": [
    {
     "data": {
      "text/plain": [
       "['S001', 'S002', 'S005', 'S009', 'S007']"
      ]
     },
     "execution_count": 107,
     "metadata": {},
     "output_type": "execute_result"
    }
   ],
   "source": [
    "# Write a Python program to print all distinct values in a dictionary.\n",
    "sample = [{\"V\":\"S001\"}, {\"V\": \"S002\"}, {\"VI\": \"S001\"}, {\"VI\": \"S005\"}, {\"VII\":\"S005\"}, {\"V\":\"S009\"},{\"VIII\":\"S007\"}]\n",
    "# Expected Output : Unique Values: {'S005', 'S002', 'S007', 'S001', 'S009'}\n",
    "uq_values = []\n",
    "for i in sample:\n",
    "    if list(i.values())[0] not in uq_values:\n",
    "        uq_values.append(list(i.values())[0])        \n",
    "uq_values"
   ]
  }
 ],
 "metadata": {
  "kernelspec": {
   "display_name": "Python 3 (ipykernel)",
   "language": "python",
   "name": "python3"
  },
  "language_info": {
   "codemirror_mode": {
    "name": "ipython",
    "version": 3
   },
   "file_extension": ".py",
   "mimetype": "text/x-python",
   "name": "python",
   "nbconvert_exporter": "python",
   "pygments_lexer": "ipython3",
   "version": "3.9.13"
  }
 },
 "nbformat": 4,
 "nbformat_minor": 5
}
